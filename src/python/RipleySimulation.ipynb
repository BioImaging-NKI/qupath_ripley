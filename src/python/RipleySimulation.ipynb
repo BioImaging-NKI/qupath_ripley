{
 "cells": [
  {
   "cell_type": "markdown",
   "id": "990025ad-cf05-412e-ba22-02d094a6720b",
   "metadata": {},
   "source": [
    "# Ripley 1D Test"
   ]
  },
  {
   "cell_type": "code",
   "execution_count": null,
   "id": "8d2db42b-0e4d-4bb0-aaf7-f7be744b2847",
   "metadata": {},
   "outputs": [],
   "source": [
    "import plotly.graph_objects as go\n",
    "import pandas as pd\n",
    "import numpy as np\n",
    "from pathlib import Path\n",
    "from dataclasses import dataclass"
   ]
  },
  {
   "cell_type": "code",
   "execution_count": null,
   "id": "59a99c29-9fc7-430c-a9df-d6fd9eb7bfbe",
   "metadata": {},
   "outputs": [],
   "source": [
    "@dataclass\n",
    "class Parameters:\n",
    "    REP:int\n",
    "    NPTS:int\n",
    "    NPTS_cl:int\n",
    "    cl_std:float\n",
    "    cl_loc:float\n",
    "    LINELENGTH:float\n",
    "    def NDST(self):\n",
    "        \"\"\"\n",
    "        The number of distances\n",
    "        \"\"\"\n",
    "        return self.NPTS**2 - self.NPTS\n",
    "    def DENS(self):\n",
    "        \"\"\"\n",
    "        The density of points\n",
    "        \"\"\"\n",
    "        return self.NDST()/self.LINELENGTH\n"
   ]
  },
  {
   "cell_type": "markdown",
   "id": "813a7377-a08c-4145-9f7f-869ac39b84f0",
   "metadata": {},
   "source": [
    "# Functions\n",
    "$K(r) = \\frac{1}{N^2-N}  \\sum \\limits_{i=0}^N \\sum \\limits_{j=0}^N D(i,j)<r \\textrm{ (if i!=j)}$\n",
    "\n",
    "* `K(r)` = Ripleys K-function\n",
    "* `D(i,j)` = Distance between i and j\n",
    "* `N` = Number of points\n",
    "\n",
    "$L(r) = L*K(r) - 2*r $\n",
    "\n",
    "* `L(r)` = Ripleys L-function\n",
    "* `L` = Line Length\n",
    "\n",
    "The `K(r)` function is a cummulative count of the number of distances within a radius (`r`), normalized to the total number of distances. It ranges from `K(0) = 0` to `K(inf)=1` if no edge correction is applied.\n",
    "\n",
    "The `L(r)` function applies normalization to `K(r)` to the expected number of distances for a random distribution. It has an expected value of `0` for random distributed points. "
   ]
  },
  {
   "cell_type": "markdown",
   "id": "834d9ab7-2525-49bf-b606-48241b30d401",
   "metadata": {},
   "source": [
    "# Edge correction: Loop the line\n",
    "Every distance is counted twice, once directly and once presuming the endpoints of the line form a loop."
   ]
  },
  {
   "cell_type": "code",
   "execution_count": null,
   "id": "9686c280-a501-4346-adb7-5a343ee60c72",
   "metadata": {},
   "outputs": [],
   "source": [
    "def runRipley(p):\n",
    "    distances = []\n",
    "    ripley_lrs = []\n",
    "    for r in range(p.REP):\n",
    "        data = np.random.rand(p.NPTS)*p.LINELENGTH\n",
    "        data[0:p.NPTS_cl] = p.cl_loc + np.random.randn(p.NPTS_cl)*p.cl_std\n",
    "        dist = np.zeros(p.NDST())\n",
    "        idx_dist = 0\n",
    "        for i in range(p.NPTS):\n",
    "            for j in range(i+1,p.NPTS):  # Measuring distances only once since a->b = b->a ; this is compensated later when calculating ripley_lr\n",
    "                dist[idx_dist] = np.abs(data[i]-data[j])\n",
    "                idx_dist += 1\n",
    "                dist[idx_dist] = p.LINELENGTH-np.abs(data[i]-data[j])  # loop via other side\n",
    "                idx_dist += 1\n",
    "                \n",
    "        dist = np.sort(dist)\n",
    "        ripley_lr = [((2*x+2)/p.DENS()) - 2*dist[x] for x in range(len(dist))] # (2*x+2) because every distance is present twice (a->b and b->a)\n",
    "        distances.append(dist)\n",
    "        ripley_lrs.append(ripley_lr)\n",
    "    \n",
    "    fig = go.Figure()\n",
    "    for r in range(p.REP):\n",
    "        fig.add_trace(go.Scatter(x=distances[r], y=ripley_lrs[r],\n",
    "                        mode='lines',\n",
    "                        name=f'trace {r+1}'))\n",
    "    fig.update_layout(xaxis_range=[0,p.LINELENGTH])\n",
    "    return distances, ripley_lrs, fig\n"
   ]
  },
  {
   "cell_type": "code",
   "execution_count": null,
   "id": "f95c8cb8-58c4-419d-95fc-18b9469f93dc",
   "metadata": {},
   "outputs": [],
   "source": [
    "parameters = Parameters(REP=20, NPTS=100, NPTS_cl=0, cl_std=0.05, cl_loc=0.5, LINELENGTH=10)\n",
    "x,y,fig = runRipley(parameters)\n",
    "fig.update_layout(title='Random Points')\n",
    "fig.update_layout(yaxis_range=[-1,3], xaxis_range=[0,parameters.LINELENGTH/2])\n",
    "fig.show()\n",
    "# for i in range(parameters.REP):\n",
    "#     df = pd.DataFrame({'r':x[i], 'ripley_l(r)':y[i]})\n",
    "#     pth = Path(Path.cwd(), f\"curve_rand{i}.csv\")\n",
    "#     df.to_csv(pth)"
   ]
  },
  {
   "cell_type": "code",
   "execution_count": null,
   "id": "226e35c3-17d1-4d63-af78-865fa58e3452",
   "metadata": {},
   "outputs": [],
   "source": [
    "parameters.NPTS_cl=50\n",
    "x,y,fig = runRipley(parameters)\n",
    "fig.update_layout(title='Clustered Points')\n",
    "fig.update_layout(yaxis_range=[-1,3], xaxis_range=[0,parameters.LINELENGTH/2])\n",
    "fig.show()\n",
    "# for i in range(parameters.REP):\n",
    "#     df = pd.DataFrame({'r':x[i], 'ripley_l(r)':y[i]})\n",
    "#     pth = Path(Path.cwd(), f\"curve_clustered{i}.csv\")\n",
    "#     df.to_csv(pth)"
   ]
  }
 ],
 "metadata": {
  "kernelspec": {
   "display_name": "Python 3 (ipykernel)",
   "language": "python",
   "name": "python3"
  },
  "language_info": {
   "codemirror_mode": {
    "name": "ipython",
    "version": 3
   },
   "file_extension": ".py",
   "mimetype": "text/x-python",
   "name": "python",
   "nbconvert_exporter": "python",
   "pygments_lexer": "ipython3",
   "version": "3.12.0"
  }
 },
 "nbformat": 4,
 "nbformat_minor": 5
}
